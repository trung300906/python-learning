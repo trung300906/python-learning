{
 "cells": [
  {
   "cell_type": "code",
   "execution_count": null,
   "metadata": {},
   "outputs": [],
   "source": [
    "import numpy as np\n",
    "import matplotlib.pyplot as plt\n",
    "\n",
    "def load_txt(file_path):\n",
    "    data = np.loadtxt(file_path, delimiter=' ')\n",
    "    return data\n",
    "\n",
    "def write_to_graph(x, y, title, xlabel, ylabel):\n",
    "    # Chia thành 2 nhóm\n",
    "    x1 = x[y == 1]  # Lấy các giá trị x có y = 1\n",
    "    x0 = x[y == 0]  # Lấy các giá trị x có y = 0\n",
    "\n",
    "    # Vẽ dữ liệu\n",
    "    plt.scatter(x0, np.zeros_like(x0), color='red', marker='x', label='y = 0')\n",
    "    plt.scatter(x1, np.ones_like(x1), color='blue', marker='o', label='y = 1')\n",
    "\n",
    "    # Thiết lập thông tin đồ thị\n",
    "    plt.title(title)\n",
    "    plt.xlabel(xlabel)\n",
    "    plt.ylabel(ylabel)\n",
    "    plt.legend()\n",
    "    plt.show()\n",
    "\n",
    "# Đọc dữ liệu\n",
    "data = load_txt(\"/run/media/trung/hdddrive/CODE/python-learning/AI-LEARNING/logistic_regression/data.txt\")\n",
    "x = data[:, 0]\n",
    "y = data[:, 1].astype(int)  # Đảm bảo y là số nguyên\n",
    "\n",
    "# Gọi hàm vẽ\n",
    "write_to_graph(x, y, \"Biểu đồ dữ liệu Logistic Regression\", \"Giá trị X\", \"Nhãn Y\")\n"
   ]
  },
  {
   "cell_type": "markdown",
   "metadata": {},
   "source": [
    "coding algorithm"
   ]
  },
  {
   "cell_type": "code",
   "execution_count": null,
   "metadata": {},
   "outputs": [
    {
     "name": "stdout",
     "output_type": "stream",
     "text": [
      "theta:  [-0.668291  0.625498]\n",
      "x:  [[ 1.      45.6391 ]\n",
      " [ 1.       3.00872]\n",
      " [ 1.      58.7303 ]\n",
      " [ 1.      30.7952 ]\n",
      " [ 1.      28.1687 ]\n",
      " [ 1.      45.504  ]\n",
      " [ 1.      59.1813 ]\n",
      " [ 1.      31.6382 ]\n",
      " [ 1.      54.5558 ]\n",
      " [ 1.      82.2152 ]]\n",
      "y:  [0 0 1 0 0 0 1 0 1 1]\n",
      "Training: |=================================================-| 100.0%\n",
      "theta:  [-88.24048827   2.16998569]\n",
      "predicted:  [9.99979513e-01 3.25911087e-36 1.00000000e+00 ... 1.00000000e+00\n",
      " 9.99999941e-01 9.99999998e-01]\n",
      "Accuracy: 76.1317\n",
      "Precision: 0.6782\n",
      "Recall: 0.9946\n",
      "F1-score: 0.8065\n"
     ]
    },
    {
     "ename": "KeyboardInterrupt",
     "evalue": "",
     "output_type": "error",
     "traceback": [
      "\u001b[0;31m---------------------------------------------------------------------------\u001b[0m",
      "\u001b[0;31mKeyboardInterrupt\u001b[0m                         Traceback (most recent call last)",
      "Cell \u001b[0;32mIn[2], line 57\u001b[0m\n\u001b[1;32m     54\u001b[0m     plt\u001b[38;5;241m.\u001b[39mshow()\n\u001b[1;32m     56\u001b[0m     write_to_graph(x, y, predicted, \u001b[38;5;124m\"\u001b[39m\u001b[38;5;124mBiểu đồ dữ liệu Logistic Regression\u001b[39m\u001b[38;5;124m\"\u001b[39m, \u001b[38;5;124m\"\u001b[39m\u001b[38;5;124mGiá trị X\u001b[39m\u001b[38;5;124m\"\u001b[39m, \u001b[38;5;124m\"\u001b[39m\u001b[38;5;124mNhãn Y\u001b[39m\u001b[38;5;124m\"\u001b[39m)\n\u001b[0;32m---> 57\u001b[0m \u001b[43mlogistic_regression\u001b[49m\u001b[43m(\u001b[49m\u001b[43mx\u001b[49m\u001b[43m,\u001b[49m\u001b[43m \u001b[49m\u001b[43my\u001b[49m\u001b[43m,\u001b[49m\u001b[43m \u001b[49m\u001b[43mtheta\u001b[49m\u001b[43m)\u001b[49m\n",
      "Cell \u001b[0;32mIn[2], line 41\u001b[0m, in \u001b[0;36mlogistic_regression\u001b[0;34m(x, y, theta)\u001b[0m\n\u001b[1;32m     39\u001b[0m \u001b[38;5;28mprint\u001b[39m(\u001b[38;5;124mf\u001b[39m\u001b[38;5;124m\"\u001b[39m\u001b[38;5;124mF1-score: \u001b[39m\u001b[38;5;132;01m{\u001b[39;00mf1\u001b[38;5;132;01m:\u001b[39;00m\u001b[38;5;124m.4f\u001b[39m\u001b[38;5;132;01m}\u001b[39;00m\u001b[38;5;124m\"\u001b[39m)\n\u001b[1;32m     40\u001b[0m \u001b[38;5;66;03m# ROC Curve & AUC\u001b[39;00m\n\u001b[0;32m---> 41\u001b[0m tpr, fpr \u001b[38;5;241m=\u001b[39m \u001b[43mroc_curve\u001b[49m\u001b[43m(\u001b[49m\u001b[43my\u001b[49m\u001b[43m,\u001b[49m\u001b[43m \u001b[49m\u001b[43mpredicted_prob\u001b[49m\u001b[43m)\u001b[49m\n\u001b[1;32m     42\u001b[0m auc_score \u001b[38;5;241m=\u001b[39m auc(fpr, tpr)\n\u001b[1;32m     44\u001b[0m \u001b[38;5;28mprint\u001b[39m(\u001b[38;5;124mf\u001b[39m\u001b[38;5;124m\"\u001b[39m\u001b[38;5;124mAUC: \u001b[39m\u001b[38;5;132;01m{\u001b[39;00mauc_score\u001b[38;5;132;01m:\u001b[39;00m\u001b[38;5;124m.4f\u001b[39m\u001b[38;5;132;01m}\u001b[39;00m\u001b[38;5;124m\"\u001b[39m)\n",
      "File \u001b[0;32m/run/media/trung/hdddrive/CODE/python-learning/AI-LEARNING/logistic_regression/function.py:121\u001b[0m, in \u001b[0;36mroc_curve\u001b[0;34m(y_true, y_prob)\u001b[0m\n\u001b[1;32m    119\u001b[0m \u001b[38;5;28;01mfor\u001b[39;00m i, threshold \u001b[38;5;129;01min\u001b[39;00m \u001b[38;5;28menumerate\u001b[39m(thresholds):\n\u001b[1;32m    120\u001b[0m     y_pred \u001b[38;5;241m=\u001b[39m y_prob \u001b[38;5;241m>\u001b[39m\u001b[38;5;241m=\u001b[39m threshold\n\u001b[0;32m--> 121\u001b[0m     TP, TN, FP, FN \u001b[38;5;241m=\u001b[39m \u001b[43mconfusion_matrix\u001b[49m\u001b[43m(\u001b[49m\u001b[43my_true\u001b[49m\u001b[43m,\u001b[49m\u001b[43m \u001b[49m\u001b[43my_pred\u001b[49m\u001b[43m)\u001b[49m\n\u001b[1;32m    122\u001b[0m     tpr[i] \u001b[38;5;241m=\u001b[39m TP \u001b[38;5;241m/\u001b[39m (TP \u001b[38;5;241m+\u001b[39m FN)\n\u001b[1;32m    123\u001b[0m     fpr[i] \u001b[38;5;241m=\u001b[39m FP \u001b[38;5;241m/\u001b[39m (FP \u001b[38;5;241m+\u001b[39m TN)\n",
      "File \u001b[0;32m/run/media/trung/hdddrive/CODE/python-learning/AI-LEARNING/logistic_regression/function.py:96\u001b[0m, in \u001b[0;36mconfusion_matrix\u001b[0;34m(y_true, y_pred)\u001b[0m\n\u001b[1;32m     94\u001b[0m \u001b[38;5;28;01mdef\u001b[39;00m\u001b[38;5;250m \u001b[39m\u001b[38;5;21mconfusion_matrix\u001b[39m(y_true, y_pred):\n\u001b[1;32m     95\u001b[0m     y_pred \u001b[38;5;241m=\u001b[39m (y_pred \u001b[38;5;241m>\u001b[39m\u001b[38;5;241m=\u001b[39m \u001b[38;5;241m0.5\u001b[39m)\u001b[38;5;241m.\u001b[39mastype(\u001b[38;5;28mint\u001b[39m)  \n\u001b[0;32m---> 96\u001b[0m     TP \u001b[38;5;241m=\u001b[39m \u001b[43mnp\u001b[49m\u001b[38;5;241;43m.\u001b[39;49m\u001b[43msum\u001b[49m\u001b[43m(\u001b[49m\u001b[43m(\u001b[49m\u001b[43my_true\u001b[49m\u001b[43m \u001b[49m\u001b[38;5;241;43m==\u001b[39;49m\u001b[43m \u001b[49m\u001b[38;5;241;43m1\u001b[39;49m\u001b[43m)\u001b[49m\u001b[43m \u001b[49m\u001b[38;5;241;43m&\u001b[39;49m\u001b[43m \u001b[49m\u001b[43m(\u001b[49m\u001b[43my_pred\u001b[49m\u001b[43m \u001b[49m\u001b[38;5;241;43m==\u001b[39;49m\u001b[43m \u001b[49m\u001b[38;5;241;43m1\u001b[39;49m\u001b[43m)\u001b[49m\u001b[43m)\u001b[49m\n\u001b[1;32m     97\u001b[0m     TN \u001b[38;5;241m=\u001b[39m np\u001b[38;5;241m.\u001b[39msum((y_true \u001b[38;5;241m==\u001b[39m \u001b[38;5;241m0\u001b[39m) \u001b[38;5;241m&\u001b[39m (y_pred \u001b[38;5;241m==\u001b[39m \u001b[38;5;241m0\u001b[39m))\n\u001b[1;32m     98\u001b[0m     FP \u001b[38;5;241m=\u001b[39m np\u001b[38;5;241m.\u001b[39msum((y_true \u001b[38;5;241m==\u001b[39m \u001b[38;5;241m0\u001b[39m) \u001b[38;5;241m&\u001b[39m (y_pred \u001b[38;5;241m==\u001b[39m \u001b[38;5;241m1\u001b[39m))\n",
      "File \u001b[0;32m/usr/lib/python3.13/site-packages/numpy/_core/fromnumeric.py:2333\u001b[0m, in \u001b[0;36m_sum_dispatcher\u001b[0;34m(a, axis, dtype, out, keepdims, initial, where)\u001b[0m\n\u001b[1;32m   2327\u001b[0m         \u001b[38;5;28;01mraise\u001b[39;00m \u001b[38;5;167;01mValueError\u001b[39;00m(\u001b[38;5;124m\"\u001b[39m\u001b[38;5;124mPassing `min` or `max` keyword argument when \u001b[39m\u001b[38;5;124m\"\u001b[39m\n\u001b[1;32m   2328\u001b[0m                          \u001b[38;5;124m\"\u001b[39m\u001b[38;5;124m`a_min` and `a_max` are provided is forbidden.\u001b[39m\u001b[38;5;124m\"\u001b[39m)\n\u001b[1;32m   2330\u001b[0m     \u001b[38;5;28;01mreturn\u001b[39;00m _wrapfunc(a, \u001b[38;5;124m'\u001b[39m\u001b[38;5;124mclip\u001b[39m\u001b[38;5;124m'\u001b[39m, a_min, a_max, out\u001b[38;5;241m=\u001b[39mout, \u001b[38;5;241m*\u001b[39m\u001b[38;5;241m*\u001b[39mkwargs)\n\u001b[0;32m-> 2333\u001b[0m \u001b[38;5;28;01mdef\u001b[39;00m\u001b[38;5;250m \u001b[39m\u001b[38;5;21m_sum_dispatcher\u001b[39m(a, axis\u001b[38;5;241m=\u001b[39m\u001b[38;5;28;01mNone\u001b[39;00m, dtype\u001b[38;5;241m=\u001b[39m\u001b[38;5;28;01mNone\u001b[39;00m, out\u001b[38;5;241m=\u001b[39m\u001b[38;5;28;01mNone\u001b[39;00m, keepdims\u001b[38;5;241m=\u001b[39m\u001b[38;5;28;01mNone\u001b[39;00m,\n\u001b[1;32m   2334\u001b[0m                     initial\u001b[38;5;241m=\u001b[39m\u001b[38;5;28;01mNone\u001b[39;00m, where\u001b[38;5;241m=\u001b[39m\u001b[38;5;28;01mNone\u001b[39;00m):\n\u001b[1;32m   2335\u001b[0m     \u001b[38;5;28;01mreturn\u001b[39;00m (a, out)\n\u001b[1;32m   2338\u001b[0m \u001b[38;5;129m@array_function_dispatch\u001b[39m(_sum_dispatcher)\n\u001b[1;32m   2339\u001b[0m \u001b[38;5;28;01mdef\u001b[39;00m\u001b[38;5;250m \u001b[39m\u001b[38;5;21msum\u001b[39m(a, axis\u001b[38;5;241m=\u001b[39m\u001b[38;5;28;01mNone\u001b[39;00m, dtype\u001b[38;5;241m=\u001b[39m\u001b[38;5;28;01mNone\u001b[39;00m, out\u001b[38;5;241m=\u001b[39m\u001b[38;5;28;01mNone\u001b[39;00m, keepdims\u001b[38;5;241m=\u001b[39mnp\u001b[38;5;241m.\u001b[39m_NoValue,\n\u001b[1;32m   2340\u001b[0m         initial\u001b[38;5;241m=\u001b[39mnp\u001b[38;5;241m.\u001b[39m_NoValue, where\u001b[38;5;241m=\u001b[39mnp\u001b[38;5;241m.\u001b[39m_NoValue):\n",
      "\u001b[0;31mKeyboardInterrupt\u001b[0m: "
     ]
    }
   ],
   "source": [
    "import numpy as np\n",
    "import matplotlib.pyplot as plt\n",
    "import sys\n",
    "sys.path.append('/run/media/trung/hdddrive/CODE/python-learning/AI-LEARNING/logistic_regression')\n",
    "from function import * #file have algorithm\n",
    "from mpl_toolkits.mplot3d import axes3d\n",
    "import plotly.graph_objects as go\n",
    "\n",
    "\n",
    "raw_data = load_txt(\"/run/media/trung/hdddrive/CODE/python-learning/AI-LEARNING/logistic_regression/data.txt\")\n",
    "theta = load_txt(\"/run/media/trung/hdddrive/CODE/python-learning/AI-LEARNING/logistic_regression/theta.txt\")\n",
    "print(\"theta: \",theta)\n",
    "x = np.zeros((np.size(raw_data, 0), np.size(raw_data, 1)))\n",
    "x[:, 0] = 1\n",
    "x[:, 1:] = raw_data[:, :-1] \n",
    "y = raw_data[:, 1].astype(int)\n",
    "print(\"x: \", x[:10])\n",
    "print(\"y: \",y[:10])\n",
    "\n",
    "# write_to_graph(x, y,\"Biểu đồ dữ liệu Logistic Regression\", \"Giá trị X\", \"Nhãn Y\")\n",
    "def logistic_regression(x, y, theta):\n",
    "    iterations = 10000\n",
    "    learning_rate = 0.1\n",
    "    theta , cost_history= gradient_descent(x, y, theta, learning_rate, iterations)\n",
    "    print(\"\\ntheta: \",theta)\n",
    "\n",
    "    predicted_prob = predict(x, theta)  # Dự đoán xác suất\n",
    "    predicted = predict(x, theta)\n",
    "    print(\"predicted: \", predicted)\n",
    "    \n",
    "    # Đánh giá mô hình\n",
    "    accuracy_score = accuracy(y, predicted)\n",
    "    precision_score = precision(y, predicted)\n",
    "    recall_score = recall(y, predicted)\n",
    "    f1 = f1_score(y, predicted)\n",
    "    print(f\"Accuracy: {accuracy_score:.4f}\")\n",
    "    print(f\"Precision: {precision_score:.4f}\")\n",
    "    print(f\"Recall: {recall_score:.4f}\")\n",
    "    print(f\"F1-score: {f1:.4f}\")\n",
    "    # ROC Curve & AUC\n",
    "    tpr, fpr = roc_curve(y, predicted_prob)\n",
    "    auc_score = auc(fpr, tpr)\n",
    "\n",
    "    print(f\"AUC: {auc_score:.4f}\")\n",
    "\n",
    "    # Vẽ đường ROC\n",
    "    plt.figure()\n",
    "    plt.plot(fpr, tpr, label=f\"ROC Curve (AUC = {auc_score:.4f})\", color='blue')\n",
    "    plt.plot([0, 1], [0, 1], 'r--', label=\"Random guess\")\n",
    "    plt.xlabel(\"False Positive Rate\")\n",
    "    plt.ylabel(\"True Positive Rate\")\n",
    "    plt.title(\"ROC Curve\")\n",
    "    plt.legend()\n",
    "    plt.show()\n",
    "\n",
    "    write_to_graph(x, y, predicted, \"Biểu đồ dữ liệu Logistic Regression\", \"Giá trị X\", \"Nhãn Y\")\n",
    "logistic_regression(x, y, theta)"
   ]
  }
 ],
 "metadata": {
  "kernelspec": {
   "display_name": "Python 3",
   "language": "python",
   "name": "python3"
  },
  "language_info": {
   "codemirror_mode": {
    "name": "ipython",
    "version": 3
   },
   "file_extension": ".py",
   "mimetype": "text/x-python",
   "name": "python",
   "nbconvert_exporter": "python",
   "pygments_lexer": "ipython3",
   "version": "3.13.1"
  }
 },
 "nbformat": 4,
 "nbformat_minor": 2
}
